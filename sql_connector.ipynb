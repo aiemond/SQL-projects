{
 "cells": [
  {
   "cell_type": "code",
   "execution_count": 8,
   "id": "d290ccc6",
   "metadata": {},
   "outputs": [],
   "source": [
    "import pandas as pd\n",
    "from sqlalchemy import create_engine\n",
    "\n",
    "hostname = 'localhost'\n",
    "username = 'root'\n",
    "password = '110752'\n",
    "port = 3306\n",
    "database = 'isas'\n",
    "\n",
    "# MySQL connection string\n",
    "conn_string = 'mysql+pymysql://' +username+':'+password+'@'+hostname+':'+str(port)+'/'+database\n",
    "\n",
    "# Create an engine\n",
    "db = create_engine(conn_string)\n",
    "conn = db.connect()\n",
    "\n",
    "# List of CSV files to be uploaded\n",
    "files = ['artist', 'canvas_size', 'image_link', 'museum_hours', 'museum', 'product_size', 'subject', 'work']\n",
    "\n",
    "# Loop through each file and upload to the MySQL database\n",
    "for file in files:\n",
    "    # Read the CSV file into a DataFrame\n",
    "    df = pd.read_csv(f'/Users/emondemoniac/Desktop/SQL/Instagram/data/{file}.csv')\n",
    "    # Upload the DataFrame to the database\n",
    "    df.to_sql(file, con=conn, if_exists='replace', index=False)\n",
    "\n",
    "# Close the connection\n",
    "conn.close()\n"
   ]
  },
  {
   "cell_type": "code",
   "execution_count": null,
   "id": "978a19e0",
   "metadata": {},
   "outputs": [],
   "source": []
  }
 ],
 "metadata": {
  "kernelspec": {
   "display_name": "Python 3 (ipykernel)",
   "language": "python",
   "name": "python3"
  },
  "language_info": {
   "codemirror_mode": {
    "name": "ipython",
    "version": 3
   },
   "file_extension": ".py",
   "mimetype": "text/x-python",
   "name": "python",
   "nbconvert_exporter": "python",
   "pygments_lexer": "ipython3",
   "version": "3.10.9"
  }
 },
 "nbformat": 4,
 "nbformat_minor": 5
}
